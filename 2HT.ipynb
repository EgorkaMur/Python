{
  "nbformat": 4,
  "nbformat_minor": 0,
  "metadata": {
    "colab": {
      "provenance": []
    },
    "kernelspec": {
      "name": "python3",
      "display_name": "Python 3"
    },
    "language_info": {
      "name": "python"
    }
  },
  "cells": [
    {
      "cell_type": "code",
      "execution_count": null,
      "metadata": {
        "id": "ZNgokWNJRPSV"
      },
      "outputs": [],
      "source": [
        "import pandas as pd\n",
        "from sklearn.datasets import load_iris\n",
        "from sklearn.model_selection import train_test_split\n",
        "from sklearn.preprocessing import StandardScaler, MinMaxScaler, MaxAbsScaler, RobustScaler, Normalizer\n",
        "from sklearn.neighbors import KNeighborsClassifier\n",
        "from sklearn.linear_model import LogisticRegression\n",
        "from sklearn.tree import DecisionTreeClassifier\n",
        "from sklearn.metrics import accuracy_score"
      ]
    },
    {
      "cell_type": "code",
      "source": [
        "# Производим загрузку данных\n",
        "iris = load_iris()\n",
        "iris_data = iris.data[:, :2]\n",
        "iris_target = iris.target\n",
        "#Произведем разделение данных на выборки\n",
        "X_train, X_test, y_train, y_test = train_test_split(iris_data, iris_target, test_size=0.5, random_state=0)"
      ],
      "metadata": {
        "id": "Z3xASuWQRRww"
      },
      "execution_count": null,
      "outputs": []
    },
    {
      "cell_type": "code",
      "source": [
        "#Произведем определение методов\n",
        "scalers = {\n",
        "    'Стандартный ': StandardScaler(),\n",
        "    'Мини-максный': MinMaxScaler(),\n",
        "    'По абсолютному значению': MaxAbsScaler(),\n",
        "    'Устойчивый': RobustScaler(),\n",
        "    'Нормализатор': Normalizer()\n",
        "}\n",
        "classifiers = {\n",
        "    'Логистическая регрессия': LogisticRegression(),\n",
        "    'Дерево решенийй': DecisionTreeClassifier(random_state=0)\n",
        "}\n",
        "\n",
        "results = []"
      ],
      "metadata": {
        "id": "21FI0z3lRYld"
      },
      "execution_count": null,
      "outputs": []
    },
    {
      "cell_type": "code",
      "source": [
        "#Производим проходку по каждому из методов классификации\n",
        "for scaler_name, scaler in scalers.items():\n",
        "    # Трансформируем тренировочные и тестовые данные\n",
        "    X_train_transformed = scaler.fit_transform(X_train)\n",
        "    X_test_transformed = scaler.transform(X_test)\n",
        "\n",
        "    # Проходим по каждому классификатору\n",
        "    for clf_name, clf in classifiers.items():\n",
        "        # Обучаем модель\n",
        "        clf.fit(X_train_transformed, y_train)\n",
        "\n",
        "        # Делаем предсказания\n",
        "        y_pred = clf.predict(X_test_transformed)\n",
        "\n",
        "        # Оцениваем точность\n",
        "        accuracy = accuracy_score(y_test, y_pred)\n",
        "\n",
        "        # Сохраняем результаты\n",
        "        results.append({\n",
        "            'Scaler': scaler_name,\n",
        "            'Classifier': clf_name,\n",
        "            'Accuracy': accuracy\n",
        "        })"
      ],
      "metadata": {
        "id": "OSR-UT6CR63k"
      },
      "execution_count": null,
      "outputs": []
    },
    {
      "cell_type": "code",
      "source": [
        "# Преобразуем результаты в DataFrame для удобного отображения\n",
        "df_results = pd.DataFrame(results)\n",
        "\n",
        "# Выводим результаты\n",
        "print(df_results.pivot(index='Scaler', columns='Classifier', values='Accuracy').round(3))"
      ],
      "metadata": {
        "colab": {
          "base_uri": "https://localhost:8080/"
        },
        "id": "SWrm_CWGSfnC",
        "outputId": "55f3a6d8-9981-4b4a-d009-1c5717ecf191"
      },
      "execution_count": null,
      "outputs": [
        {
          "output_type": "stream",
          "name": "stdout",
          "text": [
            "Classifier               Дерево решенийй  Логистическая регрессия\n",
            "Scaler                                                           \n",
            "Мини-максный                       0.680                    0.640\n",
            "Нормализатор                       0.640                    0.573\n",
            "По абсолютному значению            0.680                    0.587\n",
            "Стандартный                        0.680                    0.693\n",
            "Устойчивый                         0.693                    0.680\n"
          ]
        }
      ]
    }
  ]
}